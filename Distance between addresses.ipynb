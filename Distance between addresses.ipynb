{
 "cells": [
  {
   "cell_type": "markdown",
   "metadata": {},
   "source": [
    "November 6th, 2018. Distances between addresses"
   ]
  },
  {
   "cell_type": "code",
   "execution_count": 30,
   "metadata": {},
   "outputs": [],
   "source": [
    "from geopy.geocoders import Nominatim\n",
    "from geopy import distance\n",
    "\n",
    "geolocator = Nominatim(user_agent=\"address_distance_app\")\n",
    "\n",
    "def findDistance(address1,address2):\n",
    "    location1 = geolocator.geocode(address1)\n",
    "    location2 = geolocator.geocode(address2)\n",
    "    dist = distance.distance((location1.latitude,location1.longitude),(location2.latitude,location2.longitude)).miles\n",
    "    print(\"The distance between \",address1,\" and \",address2,\" is \",dist,\" miles.\")\n",
    "    return dist"
   ]
  },
  {
   "cell_type": "code",
   "execution_count": 32,
   "metadata": {},
   "outputs": [
    {
     "name": "stdout",
     "output_type": "stream",
     "text": [
      "The distance between  Salem OR  and  Grayslake IL  is  1749.817120813693  miles.\n"
     ]
    },
    {
     "data": {
      "text/plain": [
       "1749.817120813693"
      ]
     },
     "execution_count": 32,
     "metadata": {},
     "output_type": "execute_result"
    }
   ],
   "source": [
    "findDistance(\"Salem OR\", \"Grayslake IL\")"
   ]
  },
  {
   "cell_type": "code",
   "execution_count": null,
   "metadata": {},
   "outputs": [],
   "source": []
  }
 ],
 "metadata": {
  "kernelspec": {
   "display_name": "Python 3",
   "language": "python",
   "name": "python3"
  },
  "language_info": {
   "codemirror_mode": {
    "name": "ipython",
    "version": 3
   },
   "file_extension": ".py",
   "mimetype": "text/x-python",
   "name": "python",
   "nbconvert_exporter": "python",
   "pygments_lexer": "ipython3",
   "version": "3.7.0"
  }
 },
 "nbformat": 4,
 "nbformat_minor": 2
}
